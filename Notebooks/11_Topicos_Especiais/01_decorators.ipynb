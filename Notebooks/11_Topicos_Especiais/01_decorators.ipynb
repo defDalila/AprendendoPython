{
 "cells": [
  {
   "cell_type": "markdown",
   "id": "7be7c667",
   "metadata": {},
   "source": [
    "# 🌀 Decorators em Python"
   ]
  },
  {
   "cell_type": "markdown",
   "id": "74954a14",
   "metadata": {},
   "source": [
    "### 📘 Conceito\n",
    "\n",
    "Decorators são funções que modificam o comportamento de outras funções, métodos ou classes, sem alterar diretamente seu código-fonte."
   ]
  },
  {
   "cell_type": "markdown",
   "id": "f863c62d",
   "metadata": {},
   "source": [
    "### 📍 Sintaxe Básica "
   ]
  },
  {
   "cell_type": "code",
   "execution_count": 1,
   "id": "d8ba216e",
   "metadata": {},
   "outputs": [
    {
     "name": "stdout",
     "output_type": "stream",
     "text": [
      "Antes da função\n",
      "Oi!\n",
      "Depois da função\n"
     ]
    }
   ],
   "source": [
    "def meu_decorator(func):\n",
    "    def wrapper():\n",
    "        print(\"Antes da função\")\n",
    "        func()\n",
    "        print(\"Depois da função\")\n",
    "    return wrapper\n",
    "\n",
    "@meu_decorator\n",
    "def diga_oi():\n",
    "    print(\"Oi!\")\n",
    "\n",
    "diga_oi()\n"
   ]
  },
  {
   "cell_type": "markdown",
   "id": "6b4675c5",
   "metadata": {},
   "source": [
    "### 🛠️ Decorators com argumentos"
   ]
  },
  {
   "cell_type": "code",
   "execution_count": 2,
   "id": "6153b090",
   "metadata": {},
   "outputs": [
    {
     "name": "stdout",
     "output_type": "stream",
     "text": [
      "Olá!\n",
      "Olá!\n",
      "Olá!\n"
     ]
    }
   ],
   "source": [
    "def repetir(n):\n",
    "    def decorator(func):\n",
    "        def wrapper(*args, **kwargs):\n",
    "            for _ in range(n):\n",
    "                func(*args, **kwargs)\n",
    "        return wrapper\n",
    "    return decorator\n",
    "\n",
    "@repetir(3)\n",
    "def saudacao():\n",
    "    print(\"Olá!\")\n",
    "\n",
    "saudacao()\n"
   ]
  },
  {
   "cell_type": "markdown",
   "id": "908faa49",
   "metadata": {},
   "source": [
    "### ✅ Função functools.wraps\n",
    "Preserva __name__, __doc__ e outras propriedades da função original:"
   ]
  },
  {
   "cell_type": "code",
   "execution_count": 3,
   "id": "4e7fe18e",
   "metadata": {},
   "outputs": [],
   "source": [
    "from functools import wraps\n",
    "\n",
    "def log(func):\n",
    "    @wraps(func)\n",
    "    def wrapper(*args, **kwargs):\n",
    "        print(f\"Chamando {func.__name__}\")\n",
    "        return func(*args, **kwargs)\n",
    "    return wrapper\n"
   ]
  },
  {
   "cell_type": "markdown",
   "id": "f9eca1fb",
   "metadata": {},
   "source": [
    "### 🧪 Decorators comuns da `stdlib`\n",
    "\n",
    "- `@staticmethod`\n",
    "\n",
    "- `@classmethod`\n",
    "\n",
    "- `@property`\n",
    "\n",
    "- `@lru_cache` (memoização)"
   ]
  }
 ],
 "metadata": {
  "kernelspec": {
   "display_name": ".venv",
   "language": "python",
   "name": "python3"
  },
  "language_info": {
   "codemirror_mode": {
    "name": "ipython",
    "version": 3
   },
   "file_extension": ".py",
   "mimetype": "text/x-python",
   "name": "python",
   "nbconvert_exporter": "python",
   "pygments_lexer": "ipython3",
   "version": "3.13.3"
  }
 },
 "nbformat": 4,
 "nbformat_minor": 5
}
