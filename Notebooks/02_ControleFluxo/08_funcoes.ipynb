{
 "cells": [
  {
   "cell_type": "markdown",
   "id": "092dda81",
   "metadata": {},
   "source": [
    "# Definindo funções 💻"
   ]
  },
  {
   "cell_type": "markdown",
   "id": "86afec4f",
   "metadata": {},
   "source": [
    "- A palavra reservada def inicia a definição de uma função e deve ser seguida pelo nome da função e da lista de parâmetros entre parênteses.\n",
    "- Opcionalmente, a primeira linha do corpo da função pode ser uma literal string, cujo propósito é documentar a função."
   ]
  },
  {
   "cell_type": "code",
   "execution_count": 9,
   "id": "78c1dc21",
   "metadata": {},
   "outputs": [
    {
     "name": "stdout",
     "output_type": "stream",
     "text": [
      "0 1 1 2 3 \n"
     ]
    }
   ],
   "source": [
    "# função que escreve a série de Fibonacci até um limite arbitrário\n",
    "\n",
    "def serie_fibonacci(n: int) -> None:\n",
    "    \"\"\"Imprime uma série de Fibonacci menor que n.\"\"\"\n",
    "    a, b = 0, 1\n",
    "\n",
    "    while a < n:\n",
    "        print(a, end=' ')\n",
    "        a, b = b, a + b\n",
    "    print()\n",
    "\n",
    "serie_fibonacci(5)"
   ]
  },
  {
   "cell_type": "code",
   "execution_count": 10,
   "id": "c2ea121d",
   "metadata": {},
   "outputs": [
    {
     "name": "stdout",
     "output_type": "stream",
     "text": [
      "0 1 1 2 3 5 8 13 21 34 55 89 144 233 377 610 987 1597 2584 4181 6765 \n"
     ]
    }
   ],
   "source": [
    "serie_fibonacci(10000)"
   ]
  },
  {
   "cell_type": "code",
   "execution_count": 6,
   "id": "69f004f7",
   "metadata": {},
   "outputs": [
    {
     "name": "stdout",
     "output_type": "stream",
     "text": [
      "0 1 1 2 3 5 8 13 21 34 55 89 144 233 377 610 \n"
     ]
    }
   ],
   "source": [
    "serie_fibonacci(610)"
   ]
  },
  {
   "cell_type": "markdown",
   "id": "33a12a9e",
   "metadata": {},
   "source": [
    "- mesmo funções que não usam a instrução return devolvem um valor, None"
   ]
  },
  {
   "cell_type": "code",
   "execution_count": 11,
   "id": "77a35611",
   "metadata": {},
   "outputs": [
    {
     "name": "stdout",
     "output_type": "stream",
     "text": [
      "0 1 1 2 3 5 8 13 21 34 \n",
      "None\n"
     ]
    }
   ],
   "source": [
    "print(serie_fibonacci(50))"
   ]
  },
  {
   "cell_type": "code",
   "execution_count": 1,
   "id": "1346cfb5",
   "metadata": {},
   "outputs": [
    {
     "name": "stdout",
     "output_type": "stream",
     "text": [
      "[0, 1, 1, 2, 3, 5, 8, 13, 21, 34, 55, 89]\n"
     ]
    }
   ],
   "source": [
    "# rerorna uma lista \n",
    "\n",
    "def fib(n: int) -> list:\n",
    "    \"\"\"Retorna uma lista contendo a série de Fibonacci até n.\"\"\"\n",
    "    serie = []\n",
    "    a, b = 0, 1\n",
    "\n",
    "    while a <= n:\n",
    "        serie.append(a)\n",
    "        a, b = b, a + b\n",
    "    \n",
    "    return serie\n",
    "\n",
    "f100 = fib(100)\n",
    "print(f100)"
   ]
  }
 ],
 "metadata": {
  "kernelspec": {
   "display_name": ".venv",
   "language": "python",
   "name": "python3"
  },
  "language_info": {
   "codemirror_mode": {
    "name": "ipython",
    "version": 3
   },
   "file_extension": ".py",
   "mimetype": "text/x-python",
   "name": "python",
   "nbconvert_exporter": "python",
   "pygments_lexer": "ipython3",
   "version": "3.13.3"
  }
 },
 "nbformat": 4,
 "nbformat_minor": 5
}
