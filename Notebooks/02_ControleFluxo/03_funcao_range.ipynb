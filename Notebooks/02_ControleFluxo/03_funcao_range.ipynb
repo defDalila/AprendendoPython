{
 "cells": [
  {
   "cell_type": "markdown",
   "id": "346bc5cc",
   "metadata": {},
   "source": [
    "# Função Range 💻"
   ]
  },
  {
   "cell_type": "markdown",
   "id": "23ae7132",
   "metadata": {},
   "source": [
    "- 📝 Função built-in que gera progressões aritméticas, frequentemente utilizada em situações que existe a necessidade de iterar sequências numéricas.\n",
    "\n",
    "- :memo: Se trata de um objeto iterável que retorna os itens da sequência sucessivamente e precisa ser passado como argumento caso necessite armazenar os valores gerados em variáveis.\n"
   ]
  },
  {
   "cell_type": "code",
   "execution_count": 5,
   "id": "b8bf37ed",
   "metadata": {},
   "outputs": [
    {
     "name": "stdout",
     "output_type": "stream",
     "text": [
      "range(0, 10)\n"
     ]
    }
   ],
   "source": [
    "print(range(10))"
   ]
  },
  {
   "cell_type": "code",
   "execution_count": null,
   "id": "a76a4b08",
   "metadata": {},
   "outputs": [
    {
     "name": "stdout",
     "output_type": "stream",
     "text": [
      "0 1 2 3 4 "
     ]
    }
   ],
   "source": [
    "# Passando apenas 1 argumento (stop)\n",
    "for i in range(5): # stop n inclusivo\n",
    "    print(i, end=\" \")"
   ]
  },
  {
   "cell_type": "code",
   "execution_count": 3,
   "id": "0197064b",
   "metadata": {},
   "outputs": [
    {
     "data": {
      "text/plain": [
       "[1, 2, 3, 4, 5, 6, 7, 8, 9, 10, 11, 12, 13, 14]"
      ]
     },
     "execution_count": 3,
     "metadata": {},
     "output_type": "execute_result"
    }
   ],
   "source": [
    "# Passando 2 argumentos\n",
    "# start -> Inclusivo\n",
    "# stop -> Não Inclusivo\n",
    "\n",
    "list(range(1, 15))"
   ]
  },
  {
   "cell_type": "code",
   "execution_count": null,
   "id": "872ce7dc",
   "metadata": {},
   "outputs": [
    {
     "data": {
      "text/plain": [
       "[0, 3, 6, 9, 12]"
      ]
     },
     "execution_count": 4,
     "metadata": {},
     "output_type": "execute_result"
    }
   ],
   "source": [
    "# Passando 3 argumentos\n",
    "# start, stop,\n",
    "# step -> passos da P.A, intervalo entre os números.\n",
    "\n",
    "list(range(0, 15, 3))"
   ]
  },
  {
   "cell_type": "markdown",
   "id": "6d65d4b4",
   "metadata": {},
   "source": [
    "- :memo: Todos os parâmetros podem receber números negativos"
   ]
  },
  {
   "cell_type": "code",
   "execution_count": 5,
   "id": "215a089e",
   "metadata": {},
   "outputs": [
    {
     "data": {
      "text/plain": [
       "[0, -10, -20, -30, -40, -50, -60, -70, -80, -90]"
      ]
     },
     "execution_count": 5,
     "metadata": {},
     "output_type": "execute_result"
    }
   ],
   "source": [
    "list(range(0, -100, -10))"
   ]
  },
  {
   "cell_type": "code",
   "execution_count": 6,
   "id": "2cdf5436",
   "metadata": {},
   "outputs": [
    {
     "data": {
      "text/plain": [
       "[-10, -9, -8, -7, -6, -5, -4, -3, -2, -1, 0, 1, 2, 3, 4, 5, 6, 7, 8, 9, 10]"
      ]
     },
     "execution_count": 6,
     "metadata": {},
     "output_type": "execute_result"
    }
   ],
   "source": [
    "list(range(-10, 11, 1))"
   ]
  },
  {
   "cell_type": "code",
   "execution_count": 7,
   "id": "84c18214",
   "metadata": {},
   "outputs": [
    {
     "data": {
      "text/plain": [
       "[5, 4, 3, 2, 1, 0, -1, -2, -3, -4, -5]"
      ]
     },
     "execution_count": 7,
     "metadata": {},
     "output_type": "execute_result"
    }
   ],
   "source": [
    "list(range(5, -6,-1))"
   ]
  },
  {
   "cell_type": "markdown",
   "id": "150ceb16",
   "metadata": {},
   "source": [
    "- :memo: É utilizado juntamente com a função `len()` para criar uma sequência baseada nos índices de um iterável."
   ]
  },
  {
   "cell_type": "code",
   "execution_count": 6,
   "id": "7fbab908",
   "metadata": {},
   "outputs": [
    {
     "name": "stdout",
     "output_type": "stream",
     "text": [
      "0 - Um\n",
      "1 - Dois\n",
      "2 - Tres\n",
      "3 - Quatro\n",
      "4 - Cinco\n"
     ]
    }
   ],
   "source": [
    "a = ['Um', 'Dois', 'Tres', 'Quatro', 'Cinco']\n",
    "\n",
    "for i in range(len(a)):\n",
    "    print(f\"{i} - {a[i]}\")"
   ]
  },
  {
   "cell_type": "code",
   "execution_count": 4,
   "id": "e54caf5f",
   "metadata": {},
   "outputs": [
    {
     "name": "stdout",
     "output_type": "stream",
     "text": [
      "A gatinha Lady fugiu de casa e a mãe dela esta muito triste :( "
     ]
    }
   ],
   "source": [
    "palavras = ['A', 'gatinha', 'Lady', 'fugiu', 'de', 'casa',\n",
    "            'e', 'a', 'mãe', 'dela', 'esta', 'muito', 'triste', ':(']\n",
    "\n",
    "for i in range(len(palavras)):\n",
    "    print(palavras[i], end=\" \")"
   ]
  },
  {
   "cell_type": "markdown",
   "id": "7fbab01a",
   "metadata": {},
   "source": [
    "- :memo: Algumas funções recebem um iterável como parâmetro, como por exemplo  a função `sum( )`"
   ]
  },
  {
   "cell_type": "code",
   "execution_count": 7,
   "id": "0b0379bb",
   "metadata": {},
   "outputs": [
    {
     "data": {
      "text/plain": [
       "6"
      ]
     },
     "execution_count": 7,
     "metadata": {},
     "output_type": "execute_result"
    }
   ],
   "source": [
    "sum(range(4))"
   ]
  },
  {
   "cell_type": "code",
   "execution_count": 8,
   "id": "a08acae4",
   "metadata": {},
   "outputs": [
    {
     "data": {
      "text/plain": [
       "10"
      ]
     },
     "execution_count": 8,
     "metadata": {},
     "output_type": "execute_result"
    }
   ],
   "source": [
    "sum(range(5))"
   ]
  },
  {
   "cell_type": "code",
   "execution_count": 9,
   "id": "9aaa47ef",
   "metadata": {},
   "outputs": [
    {
     "name": "stdout",
     "output_type": "stream",
     "text": [
      "  * *   * *   \n",
      "*     *     * \n",
      "* * * * * * * \n",
      "  *       *   \n",
      "    *   *     \n",
      "      *       \n"
     ]
    }
   ],
   "source": [
    "for i in range(6):\n",
    "    for j in range(7):\n",
    "        if (i == 0 and j % 3 != 0) or \\\n",
    "           (i == 1 and j % 3 == 0) or \\\n",
    "           (i == 2) or \\\n",
    "           (i - j == 2) or \\\n",
    "           (i + j == 8):\n",
    "            print(\"*\", end=\" \")\n",
    "        else:\n",
    "            print(\" \", end=\" \")\n",
    "    print()\n"
   ]
  },
  {
   "cell_type": "markdown",
   "id": "21a85d4a",
   "metadata": {},
   "source": [
    "### Explicação do Código em Python\n",
    "\n",
    "Este código imprime um padrão específico de asteriscos (`*`) no console. Vamos analisar o que cada parte faz:\n",
    "\n",
    "\n",
    "- **Laços Aninhados:** O código utiliza dois laços `for` aninhados para iterar sobre duas variáveis: `i` e `j`.\n",
    "  - `i` varia de 0 a 5 (6 iterações).\n",
    "  - `j` varia de 0 a 6 (7 iterações).\n",
    "\n",
    "\n",
    "\n",
    "Dentro dos laços, há uma série de condições que determinam quando imprimir um asterisco (`*`) ou um espaço em branco. Vamos ver cada condição:\n",
    "\n",
    "1. **`(i == 0 and j % 3 != 0)`**:\n",
    "   - Na primeira linha (`i == 0`), imprime um asterisco se a coluna não for múltiplo de 3.\n",
    "\n",
    "2. **`(i == 1 and j % 3 == 0)`**:\n",
    "   - Na segunda linha (`i == 1`), imprime um asterisco se a coluna for múltiplo de 3.\n",
    "\n",
    "3. **`(i == 2)`**:\n",
    "   - Na terceira linha (`i == 2`), imprime asteriscos em todas as colunas.\n",
    "\n",
    "4. **`(i - j == 2)`**:\n",
    "   - Imprime um asterisco se a diferença entre `i` e `j` for 2.\n",
    "\n",
    "5. **`(i + j == 8)`**:\n",
    "   - Imprime um asterisco se a soma de `i` e `j` for 8.\n",
    "\n",
    "\n",
    "- **`print(\"*\", end=\" \")`**: Imprime um asterisco seguido por um espaço, sem quebrar a linha.\n",
    "- **`print(\" \", end=\" \")`**: Imprime um espaço, sem quebrar a linha.\n",
    "- **`print()`**: Após terminar as iterações de `j`, avança para a próxima linha.\n"
   ]
  }
 ],
 "metadata": {
  "kernelspec": {
   "display_name": ".venv",
   "language": "python",
   "name": "python3"
  },
  "language_info": {
   "codemirror_mode": {
    "name": "ipython",
    "version": 3
   },
   "file_extension": ".py",
   "mimetype": "text/x-python",
   "name": "python",
   "nbconvert_exporter": "python",
   "pygments_lexer": "ipython3",
   "version": "3.13.3"
  }
 },
 "nbformat": 4,
 "nbformat_minor": 5
}
