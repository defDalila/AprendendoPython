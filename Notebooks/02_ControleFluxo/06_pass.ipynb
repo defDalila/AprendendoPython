{
 "cells": [
  {
   "cell_type": "markdown",
   "id": "94038509",
   "metadata": {},
   "source": [
    "# Instruções pass 💻"
   ]
  },
  {
   "cell_type": "markdown",
   "id": "3ef590dd",
   "metadata": {},
   "source": [
    "> - A instrução pass não faz nada. Pode ser usada quando a sintaxe exige uma instrução, mas a semântica do programa não requer nenhuma ação\n",
    "> - Isto é usado muitas vezes para se definir classes mínimas\n",
    "> - Outra ocasião em que o pass pode ser usado é como um substituto temporário para uma função ou bloco condicional, quando se está trabalhando com código novo, ainda indefinido, permitindo que mantenha-se o pensamento num nível mais abstrato"
   ]
  },
  {
   "cell_type": "code",
   "execution_count": null,
   "id": "b32ae4ab",
   "metadata": {},
   "outputs": [],
   "source": [
    "while True:\n",
    "    pass # Ocupado, aguardando interrupção por teclado (Ctrl+C)\n"
   ]
  },
  {
   "cell_type": "code",
   "execution_count": 2,
   "id": "0fcc7ca4",
   "metadata": {},
   "outputs": [],
   "source": [
    "class Vazia:\n",
    "    pass  # Classe vazia para representar uma pilha vazia"
   ]
  },
  {
   "cell_type": "code",
   "execution_count": null,
   "id": "8a1baee0",
   "metadata": {},
   "outputs": [],
   "source": [
    "def initlog(*args):\n",
    "    pass  # Função de inicialização de log, não implementada"
   ]
  }
 ],
 "metadata": {
  "kernelspec": {
   "display_name": ".venv",
   "language": "python",
   "name": "python3"
  },
  "language_info": {
   "codemirror_mode": {
    "name": "ipython",
    "version": 3
   },
   "file_extension": ".py",
   "mimetype": "text/x-python",
   "name": "python",
   "nbconvert_exporter": "python",
   "pygments_lexer": "ipython3",
   "version": "3.13.3"
  }
 },
 "nbformat": 4,
 "nbformat_minor": 5
}
