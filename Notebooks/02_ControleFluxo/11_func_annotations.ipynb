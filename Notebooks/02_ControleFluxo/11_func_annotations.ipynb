{
 "cells": [
  {
   "cell_type": "markdown",
   "id": "ca24ec23",
   "metadata": {},
   "source": [
    "# 🧾 Function Annotations em Python\n",
    "\n",
    "### 📘 Conceito\n",
    "\n",
    "* **Function Annotations** (Anotações de Funções) são **metadados opcionais** sobre os tipos usados em funções definidas pelo usuário.\n",
    "* Introduzidas pelas PEPs [3107](https://peps.python.org/pep-3107/) e [484](https://peps.python.org/pep-0484/), visam melhorar a legibilidade e suporte a ferramentas de análise estática (como *linters* e *IDEs*).\n",
    "\n",
    "---\n",
    "\n",
    "### 📍 Sintaxe\n",
    "\n",
    "#### 🔹 Anotação de parâmetros\n",
    "\n",
    "Usa `:` após o nome do parâmetro:\n",
    "\n",
    "```python\n",
    "def saudacao(nome: str):\n",
    "    return f\"Olá, {nome}\"\n",
    "```\n",
    "\n",
    "#### 🔹 Anotação de tipo de retorno\n",
    "\n",
    "Usa `->` antes dos `:` da definição da função:\n",
    "\n",
    "```python\n",
    "def soma(a: int, b: int) -> int:\n",
    "    return a + b\n",
    "```\n",
    "\n",
    "---\n",
    "\n",
    "### 🧪 Atributo `__annotations__`\n",
    "\n",
    "As anotações são armazenadas no dicionário `__annotations__` da função:\n",
    "\n",
    "```python\n",
    "print(soma.__annotations__)\n",
    "# Saída: {'a': <class 'int'>, 'b': <class 'int'>, 'return': <class 'int'>}\n",
    "```\n",
    "\n",
    "---\n",
    "\n",
    "### ⚠️ Observações Técnicas\n",
    "\n",
    "* As anotações **não afetam** o comportamento da função durante a execução.\n",
    "* Elas servem apenas como **documentação** ou **informação para ferramentas externas** (ex: mypy, VS Code).\n",
    "* Qualquer expressão válida pode ser usada como anotação (não só tipos).\n",
    "\n",
    "\n"
   ]
  },
  {
   "cell_type": "code",
   "execution_count": 2,
   "id": "60014982",
   "metadata": {},
   "outputs": [],
   "source": [
    "from typing import List, Tuple\n",
    "\n",
    "def media(valores: List[float]) -> Tuple[float, int]:\n",
    "    soma = sum(valores)\n",
    "    return soma / len(valores), len(valores)"
   ]
  },
  {
   "cell_type": "markdown",
   "id": "1d44042c",
   "metadata": {},
   "source": [
    "\n",
    "## ✅ Boas Práticas no Uso de Function Annotations\n",
    "\n",
    "### 1. 🔍 Use `typing` para tipos complexos\n",
    "\n",
    "Importe tipos genéricos do módulo `typing` para melhorar a expressividade:\n"
   ]
  },
  {
   "cell_type": "code",
   "execution_count": null,
   "id": "3866c4a2",
   "metadata": {},
   "outputs": [],
   "source": [
    "from typing import List, Dict, Optional\n",
    "\n",
    "def buscar_usuario(usuarios: Dict[int, str], id: int) -> Optional[str]:\n",
    "    return usuarios.get(id)\n"
   ]
  },
  {
   "cell_type": "markdown",
   "id": "1a1ce06e",
   "metadata": {},
   "source": [
    "\n",
    "---\n",
    "\n",
    "### 2. 🧱 Seja consistente\n",
    "\n",
    "* Anote **todos os parâmetros** e o **tipo de retorno**.\n",
    "* Isso melhora a clareza e facilita o uso com ferramentas como **mypy** ou **Pyright**.\n"
   ]
  },
  {
   "cell_type": "code",
   "execution_count": 4,
   "id": "2fb1dbbd",
   "metadata": {},
   "outputs": [],
   "source": [
    "def autenticar(usuario: str, senha: str) -> bool:\n",
    "    pass"
   ]
  },
  {
   "cell_type": "markdown",
   "id": "54dce097",
   "metadata": {},
   "source": [
    "\n",
    "\n",
    "---\n",
    "\n",
    "### 3. 🛠️ Utilize ferramentas de verificação de tipos\n",
    "\n",
    "* Ferramentas como `mypy`, `pyright`, `pylance` (VS Code) validam os tipos em tempo de desenvolvimento.\n",
    "* Exemplo de verificação com `mypy`:\n",
    "\n",
    "```bash\n",
    "mypy meu_arquivo.py\n",
    "```\n"
   ]
  },
  {
   "cell_type": "markdown",
   "id": "c3fae027",
   "metadata": {},
   "source": [
    "\n",
    "---\n",
    "\n",
    "### 4. 🧪 Documente bem tipos personalizados\n",
    "\n",
    "Se usar classes ou tipos definidos por você, adicione **docstrings claras** e, se possível, combine com *type hints*.\n"
   ]
  },
  {
   "cell_type": "code",
   "execution_count": 5,
   "id": "fd0a0f93",
   "metadata": {},
   "outputs": [],
   "source": [
    "class Produto:\n",
    "    nome: str\n",
    "    preco: float\n",
    "\n",
    "def aplicar_desconto(produto: Produto, percentual: float) -> float:\n",
    "    \"\"\"Aplica um desconto ao preço do produto.\"\"\"\n",
    "    return produto.preco * (1 - percentual)"
   ]
  },
  {
   "cell_type": "markdown",
   "id": "02b73d5c",
   "metadata": {},
   "source": [
    "\n",
    "---\n",
    "\n",
    "### 5. 🤓 Use `-> None` para funções sem retorno\n",
    "\n",
    "Isso evita ambiguidades:\n"
   ]
  },
  {
   "cell_type": "code",
   "execution_count": 6,
   "id": "e08131fb",
   "metadata": {},
   "outputs": [],
   "source": [
    "def salvar_em_log(mensagem: str) -> None:\n",
    "    print(mensagem)"
   ]
  }
 ],
 "metadata": {
  "kernelspec": {
   "display_name": ".venv",
   "language": "python",
   "name": "python3"
  },
  "language_info": {
   "codemirror_mode": {
    "name": "ipython",
    "version": 3
   },
   "file_extension": ".py",
   "mimetype": "text/x-python",
   "name": "python",
   "nbconvert_exporter": "python",
   "pygments_lexer": "ipython3",
   "version": "3.13.3"
  }
 },
 "nbformat": 4,
 "nbformat_minor": 5
}
