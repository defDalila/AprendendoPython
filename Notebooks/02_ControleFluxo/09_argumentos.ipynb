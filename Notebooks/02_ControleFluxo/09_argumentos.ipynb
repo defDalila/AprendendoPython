{
 "cells": [
  {
   "cell_type": "markdown",
   "id": "3d3e8c9a",
   "metadata": {},
   "source": [
    "# Argumentos de Funções 💻"
   ]
  },
  {
   "cell_type": "markdown",
   "id": "0a3ab2fe",
   "metadata": {},
   "source": [
    "-  É possível definir funções com um número variável de argumentos. Existem três formas, que podem ser combinadas.\n",
    "-  \n",
    "\n",
    "> ### Argumentos com valor padrão\n",
    "> \n",
    ">> Especificar um valor padrão para um ou mais argumentos. Isso cria uma função que pode ser invocada com menos argumentos do que os que foram definidos.\n",
    ">\n",
    "> <br>\n",
    "\n",
    "```python\n",
    "def pergunta_ok(mensagem, tentativas=4, lembrete='Por favor, tente novamente!'):\n",
    "    while True:\n",
    "        resposta = input(mensagem)\n",
    "        if resposta in {'s', 'sim', 'é}:\n",
    "            return True\n",
    "        if resposta in {'n', 'não', 'nah'}:\n",
    "            return False\n",
    "        tentativas = tentativas - 1\n",
    "        if tentativas < 0:\n",
    "            raise ValueError('resposta inválida de usuário')\n",
    "        print(lembrete)\n",
    "```"
   ]
  },
  {
   "cell_type": "markdown",
   "id": "37429e70",
   "metadata": {},
   "source": [
    "\n",
    "\n",
    "- fornecendo apenas o argumento obrigatório: ask_ok('Do you really want to quit?')\n",
    "- fornecendo um dos argumentos opcionais: ask_ok('OK to overwrite the file?', 2)\n",
    "- ou fornecendo todos os argumentos: ask_ok('OK to overwrite the file?', 2, 'Come on, only yes or no!')"
   ]
  },
  {
   "cell_type": "markdown",
   "id": "5897b79a",
   "metadata": {},
   "source": [
    "> a palavra-chave in, que verifica se uma sequência contém ou não um determinado valor.\n",
    "\n",
    "> Os valores padrões são avaliados no momento da definição da função, e no escopo em que a função foi definida\n",
    "\n",
    "```python\n",
    "i = 5\n",
    "\n",
    "def f(arg=i):\n",
    "    print(arg)\n",
    "\n",
    "i = 6\n",
    "f()\n",
    "```\n",
    "\n",
    "> Aviso importante: Valores padrões são avaliados apenas uma vez. Isso faz diferença quando o valor é um objeto mutável, como uma lista, dicionário, ou instâncias de classes.\n",
    "\n",
    "- a função a seguir acumula os argumentos passados\n",
    "\n",
    "```python\n",
    "    def f(a, L=[]):\n",
    "        L.append(a)\n",
    "        return L\n",
    "    \n",
    "    print(f(1))\n",
    "    print(f(2))\n",
    "    print(f(3))\n",
    "```\n",
    "\n",
    "\n",
    "\n",
    "```python\n",
    "def f(a, L=None):\n",
    "    if L is None:\n",
    "        L = []\n",
    "    L.append(a)\n",
    "    return L\n",
    "```\n",
    "\n",
    "dessa forma o valor padrão não é compartilhado com as chamadas seguintes...\n",
    "\n",
    "> ### Argumentos nomeados\n",
    ">\n",
    ">> Funções também podem ser chamadas usando argumentos nomeados da forma chave=valor.\n",
    ">\n",
    ">.\n"
   ]
  },
  {
   "cell_type": "code",
   "execution_count": 3,
   "id": "31759b04",
   "metadata": {},
   "outputs": [],
   "source": [
    "def papagaio(voltagem, estado='é um cadáver', ação='voar', tipo='Azul Norueguês'):\n",
    "    print(\"-- Este papagaio não conseguiria\", ação, end=' ')\n",
    "    print(\"nem se você desse um choque de\", voltagem, \"de volts nele.\")\n",
    "    print(\"-- Plumagem formosa, o\", tipo)\n",
    "    print(\"-- Ele\", estado, \"!\")"
   ]
  },
  {
   "cell_type": "code",
   "execution_count": 4,
   "id": "aaad62a1",
   "metadata": {},
   "outputs": [
    {
     "name": "stdout",
     "output_type": "stream",
     "text": [
      "-- Este papagaio não conseguiria voar nem se você desse um choque de 1000 de volts nele.\n",
      "-- Plumagem formosa, o Azul Norueguês\n",
      "-- Ele é um cadáver !\n",
      "-- Este papagaio não conseguiria voar nem se você desse um choque de 1000 de volts nele.\n",
      "-- Plumagem formosa, o Azul Norueguês\n",
      "-- Ele é um cadáver !\n",
      "-- Este papagaio não conseguiria fazer VOOOOOM nem se você desse um choque de 1000000 de volts nele.\n",
      "-- Plumagem formosa, o Azul Norueguês\n",
      "-- Ele é um cadáver !\n",
      "-- Este papagaio não conseguiria fazer VOOOOOM nem se você desse um choque de 1000000 de volts nele.\n",
      "-- Plumagem formosa, o Azul Norueguês\n",
      "-- Ele é um cadáver !\n",
      "-- Este papagaio não conseguiria pular nem se você desse um choque de um milhão de volts nele.\n",
      "-- Plumagem formosa, o Azul Norueguês\n",
      "-- Ele sem vida !\n",
      "-- Este papagaio não conseguiria voar nem se você desse um choque de mil de volts nele.\n",
      "-- Plumagem formosa, o Azul Norueguês\n",
      "-- Ele estaria no céu !\n"
     ]
    }
   ],
   "source": [
    "# Formas Válidas\n",
    "\n",
    "\n",
    "papagaio(1000)# 1 argumento posicional\n",
    "papagaio(voltagem=1000) # 1 argumento nomeado\n",
    "papagaio(voltagem=1000000, ação='fazer VOOOOOM') # 2 argumentos nomeados\n",
    "papagaio(ação='fazer VOOOOOM', voltagem=1000000) # 2 argumentos nomeados\n",
    "papagaio('um milhão', 'sem vida', 'pular') # 3 argumentos posicionais\n",
    "papagaio('mil', estado='estaria no céu')   # 1 posicional, 1 argumento\n"
   ]
  },
  {
   "cell_type": "markdown",
   "id": "d430398c",
   "metadata": {},
   "source": [
    "\n",
    "\n",
    " \n",
    " ##### ❌ Formas inválidas ❌\n",
    "\n",
    "  \n",
    "```python\n",
    "    papagaio()   # faltando argumento obrigatório\n",
    "    papagaio(voltagem=5.0, 'morto')  # argumento não nomeado após um argumento nomeado\n",
    "    papagaio(110, voltagem=220)   # valor duplicado para o mesmo argumento\n",
    "    papagaio(ator='John Cleese')   # argumento nomeado desconhecido\n",
    "```\n"
   ]
  },
  {
   "cell_type": "markdown",
   "id": "ccad8d30",
   "metadata": {},
   "source": [
    "\n",
    "-  Em uma chamada de função, argumentos nomeados devem vir depois dos argumentos posicionais.\n",
    "\n",
    "- Todos os argumentos nomeados passados devem corresponder com argumentos aceitos pela função (ex. ator não é um argumento nomeado válido para a função papagaio), mas sua ordem é irrelevante.\n",
    "\n",
    "- Quando um último parâmetro formal no formato `**nome` está presente, ele recebe um dicionário contendo todos os argumentos nomeados, exceto aqueles que correspondem a um parâmetro formal.\n",
    "\n",
    "-  Isto pode ser combinado com um parâmetro formal no formato `*nome` que recebe uma `tupla` contendo os argumentos posicionais, além da lista de parâmetros formais\n",
    "    - `*nome` deve ocorrer antes de `**nome`"
   ]
  },
  {
   "cell_type": "code",
   "execution_count": 13,
   "id": "1fd30aad",
   "metadata": {},
   "outputs": [],
   "source": [
    "def loja_queijos(tipo, *args, **kwargs):\n",
    "    print('-- Você tem algum', tipo, '?')\n",
    "    print('-- Lamento, acabou o', tipo)\n",
    "    print('-' * 40)\n",
    "    \n",
    "    for arg in args:\n",
    "        print(arg)\n",
    "    print('-' * 40)\n",
    "\n",
    "    for kwarg in kwargs:\n",
    "        print(f\"{kwarg}: \\t\", kwargs[kwarg])"
   ]
  },
  {
   "cell_type": "code",
   "execution_count": 14,
   "id": "c6c7e78a",
   "metadata": {},
   "outputs": [
    {
     "name": "stdout",
     "output_type": "stream",
     "text": [
      "-- Você tem algum Limburger ?\n",
      "-- Lamento, acabou o Limburger\n",
      "----------------------------------------\n",
      "Está muito mole, senhor\n",
      "Está realmente muito, MUITO mole, senhor.\n",
      "----------------------------------------\n",
      "vendedor: \t Michael Palin\n",
      "cliente: \t John Cleese\n",
      "sketch: \t Sketch da Loja de Queijos\n"
     ]
    }
   ],
   "source": [
    "loja_queijos(\"Limburger\", \"Está muito mole, senhor\",\n",
    "           \"Está realmente muito, MUITO mole, senhor.\",\n",
    "           vendedor=\"Michael Palin\",\n",
    "           cliente=\"John Cleese\",\n",
    "           sketch=\"Sketch da Loja de Queijos\")"
   ]
  },
  {
   "cell_type": "markdown",
   "id": "42d183b4",
   "metadata": {},
   "source": [
    "> #### Parâmetros Especiais\n",
    ">\n",
    ">> - Para uma melhor legibilidade e desempenho, faz sentido restringir a maneira pelo qual argumentos possam ser passados, assim um desenvolvedor precisa apenas olhar para a definição da função para determinar se os itens são passados por posição, por posição e nome, ou por nome.\n",
    ">\n",
    "> .\n"
   ]
  },
  {
   "cell_type": "markdown",
   "id": "bd6799be",
   "metadata": {},
   "source": [
    "```\n",
    "\n",
    "def f(pos1, pos2, /, pos_ou_nom *, nom1, nom2):\n",
    "\n",
    "def f(pos1, pos2, /, pos_ou_kwd, *, kwd1, kwd2):\n",
    "      -----------    ----------     ----------\n",
    "        |             |                  |\n",
    "        |        Posicional ou nomeado   |\n",
    "        |                                - Somente nomeado\n",
    "         -- Somente posicional\n",
    "```\n",
    "\n",
    "- Use somente-posicional se você não quer que o nome do parâmetro esteja disponível para o usuário. Isso é útil quando nomes de parâmetros não tem um significado real, se você quer forçar a ordem dos argumentos da função quando ela é chamada ou se você precisa ter alguns parâmetros posicionais e alguns nomeados.\n",
    "- Use somente-nomeado quando os nomes tem significado e a definição da função fica mais clara deixando esses nomes explícitos ou se você quer evitar que usuários confiem na posição dos argumentos que estão sendo passados.\n",
    "- Para uma API, use somente-posicional para evitar quebras na mudança da API se os nomes dos parâmetros forem alterados no futuro."
   ]
  },
  {
   "cell_type": "markdown",
   "id": "96ae1799",
   "metadata": {},
   "source": [
    "- Se `/` e `*` não estão presentes na definição da função, argumentos podem ser passados para uma função por **posição** ou por **nome**.\n",
    "\n",
    "- Parâmetros `somente-posicional` são colocados antes de uma `/`, nesse caso a ordem do parâmetro importa e eles não podem ser passados por nome.\n",
    "\n",
    "- Parâmetros após a `/` podem ser `posicional-ou-nomeado` ou `somente-nomeado`.\n",
    "\n",
    "- Para definir parâmetros como somente-nomeado, colocamos um `*` na lista de argumentos imediatamente antes do primeiro parâmetro `somente-nomeado`.\n"
   ]
  },
  {
   "cell_type": "code",
   "execution_count": 15,
   "id": "a28ea547",
   "metadata": {},
   "outputs": [
    {
     "name": "stdout",
     "output_type": "stream",
     "text": [
      "Chamando com argumento padrão\n",
      "Um argumento\n"
     ]
    }
   ],
   "source": [
    "def arg_padrao(arg):\n",
    "    print(arg)\n",
    "\n",
    "print(\"Chamando com argumento padrão\")\n",
    "arg_padrao(\"Um argumento\")"
   ]
  },
  {
   "cell_type": "code",
   "execution_count": 16,
   "id": "d86bd962",
   "metadata": {},
   "outputs": [
    {
     "name": "stdout",
     "output_type": "stream",
     "text": [
      "Chamando com argumento posicional\n",
      "Um argumento\n"
     ]
    }
   ],
   "source": [
    "def arg_somente_posicional(arg, /):\n",
    "    print(arg)\n",
    "print(\"Chamando com argumento posicional\")  \n",
    "arg_somente_posicional(\"Um argumento\")"
   ]
  },
  {
   "cell_type": "code",
   "execution_count": 17,
   "id": "bb8d28ea",
   "metadata": {},
   "outputs": [
    {
     "name": "stdout",
     "output_type": "stream",
     "text": [
      "Chamando com argumento nomeado\n",
      "Um argumento\n"
     ]
    }
   ],
   "source": [
    "def arg_somente_nomeado(*, arg):\n",
    "    print(arg)\n",
    "print(\"Chamando com argumento nomeado\")\n",
    "arg_somente_nomeado(arg=\"Um argumento\")"
   ]
  },
  {
   "cell_type": "code",
   "execution_count": 18,
   "id": "d9f7bd0d",
   "metadata": {},
   "outputs": [
    {
     "name": "stdout",
     "output_type": "stream",
     "text": [
      "Chamando com argumento posicional, padrão e nomeado\n",
      "Posicional Padrão Nomeado\n"
     ]
    }
   ],
   "source": [
    "def exemplo_combinado(somente_pos, /, padrao, *, somente_nom):\n",
    "    print(somente_pos, padrao, somente_nom)\n",
    "print(\"Chamando com argumento posicional, padrão e nomeado\")\n",
    "exemplo_combinado(\"Posicional\", \"Padrão\", somente_nom=\"Nomeado\")"
   ]
  },
  {
   "cell_type": "markdown",
   "id": "348e1e28",
   "metadata": {},
   "source": [
    "> #### Listas de argumentos arbitrárias\n",
    ">\n",
    ">> - Especificar que a função pode ser chamada com um número arbitrário de argumentos. Esses argumentos serão empacotados em uma tupla \n",
    ">> - Antes dos argumentos em número variável, zero ou mais argumentos normais podem estar presentes.\n",
    ">> - Quaisquer parâmetros formais que ocorrem após o parâmetro *args são argumentos ‘somente-nomeados’ , o que significa que eles só podem ser usados como chave-valor, em vez de argumentos posicionais\n",
    ">\n",
    "> .\n"
   ]
  },
  {
   "cell_type": "code",
   "execution_count": 19,
   "id": "c5cd6f68",
   "metadata": {},
   "outputs": [],
   "source": [
    "def escreve_varios_itens(arquivo, separador, *args):\n",
    "    arquivo.write(separador.join(args))\n",
    "    arquivo.write('\\n')"
   ]
  },
  {
   "cell_type": "code",
   "execution_count": 22,
   "id": "050bc64e",
   "metadata": {},
   "outputs": [
    {
     "data": {
      "text/plain": [
       "'Um/dois/três'"
      ]
     },
     "execution_count": 22,
     "metadata": {},
     "output_type": "execute_result"
    }
   ],
   "source": [
    "from os import sep\n",
    "\n",
    "\n",
    "def concatena(*args, separador='--'):\n",
    "    return separador.join(args)\n",
    "\n",
    "\n",
    "concatena('Um', 'dois', 'três', separador='/')"
   ]
  },
  {
   "cell_type": "code",
   "execution_count": 23,
   "id": "877806ce",
   "metadata": {},
   "outputs": [
    {
     "data": {
      "text/plain": [
       "'Um\\\\dois\\\\três'"
      ]
     },
     "execution_count": 23,
     "metadata": {},
     "output_type": "execute_result"
    }
   ],
   "source": [
    "concatena('Um', 'dois', 'três', separador=sep) # Usando o separador do sistema operacional"
   ]
  },
  {
   "cell_type": "code",
   "execution_count": 24,
   "id": "3f46a894",
   "metadata": {},
   "outputs": [
    {
     "data": {
      "text/plain": [
       "'terra--marte--vênus'"
      ]
     },
     "execution_count": 24,
     "metadata": {},
     "output_type": "execute_result"
    }
   ],
   "source": [
    "concatena(\"terra\", \"marte\", \"vênus\")"
   ]
  },
  {
   "cell_type": "markdown",
   "id": "fdd3b553",
   "metadata": {},
   "source": [
    "-  A situação inversa ocorre quando os argumentos já estão numa lista ou tupla mas ela precisa ser explodida para invocarmos uma função que requer argumentos posicionais separados.\n",
    "   -  se os valores já estiverem juntos em uma lista ou tupla, escreva a chamada de função com o operador `*` para desempacotá-los da sequência:"
   ]
  },
  {
   "cell_type": "code",
   "execution_count": 25,
   "id": "94caa796",
   "metadata": {},
   "outputs": [
    {
     "data": {
      "text/plain": [
       "[3, 4, 5]"
      ]
     },
     "execution_count": 25,
     "metadata": {},
     "output_type": "execute_result"
    }
   ],
   "source": [
    "list(range(3, 6))"
   ]
  },
  {
   "cell_type": "code",
   "execution_count": 26,
   "id": "45eca051",
   "metadata": {},
   "outputs": [
    {
     "data": {
      "text/plain": [
       "[3, 4, 5]"
      ]
     },
     "execution_count": 26,
     "metadata": {},
     "output_type": "execute_result"
    }
   ],
   "source": [
    "args = [3, 6]\n",
    "list(range(*args)) # Desempacotando a lista args"
   ]
  },
  {
   "cell_type": "markdown",
   "id": "df25b5f4",
   "metadata": {},
   "source": [
    "- Da mesma forma, dicionários podem produzir argumentos nomeados com o operador `**`"
   ]
  },
  {
   "cell_type": "code",
   "execution_count": 27,
   "id": "046a412a",
   "metadata": {},
   "outputs": [],
   "source": [
    "def papagaio(voltagem, estado='um cadáver', ação='voar'):\n",
    "    print(\"-- Este papagaio não conseguiria\", ação, end=' ')\n",
    "    print(\"nem se você desse um choque de\", voltagem, \"de volts nele.\", end=' ')\n",
    "    print(\"Ele\", estado, \"!\")"
   ]
  },
  {
   "cell_type": "code",
   "execution_count": 28,
   "id": "792f859b",
   "metadata": {},
   "outputs": [
    {
     "name": "stdout",
     "output_type": "stream",
     "text": [
      "-- Este papagaio não conseguiria voar nem se você desse um choque de quatro milhões de volts nele. Ele está realmente morto !\n"
     ]
    }
   ],
   "source": [
    "d = {\"voltagem\": \"quatro milhões\", \"estado\": \"está realmente morto\", \"ação\": \"voar\"}\n",
    "\n",
    "papagaio(**d) # Desempacotando o dicionário d"
   ]
  }
 ],
 "metadata": {
  "kernelspec": {
   "display_name": ".venv",
   "language": "python",
   "name": "python3"
  },
  "language_info": {
   "codemirror_mode": {
    "name": "ipython",
    "version": 3
   },
   "file_extension": ".py",
   "mimetype": "text/x-python",
   "name": "python",
   "nbconvert_exporter": "python",
   "pygments_lexer": "ipython3",
   "version": "3.13.3"
  }
 },
 "nbformat": 4,
 "nbformat_minor": 5
}
