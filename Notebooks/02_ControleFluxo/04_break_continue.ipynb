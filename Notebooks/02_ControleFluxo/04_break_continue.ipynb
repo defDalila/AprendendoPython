{
 "cells": [
  {
   "cell_type": "markdown",
   "id": "3428ee14",
   "metadata": {},
   "source": [
    "# Instruções Break e Continue :computer:"
   ]
  },
  {
   "cell_type": "markdown",
   "id": "c412f19f",
   "metadata": {},
   "source": [
    "- :memo: Ambas são utilizadas em laços de repetição onde `break` sai imediatamente do laço mais interno e continue segue para a próxima iteração do laço."
   ]
  },
  {
   "cell_type": "code",
   "execution_count": 7,
   "id": "917f3841",
   "metadata": {},
   "outputs": [
    {
     "name": "stdout",
     "output_type": "stream",
     "text": [
      "4 é igual a 2 * 2\n",
      "6 é igual a 2 * 3\n",
      "8 é igual a 2 * 4\n",
      "9 é igual a 3 * 3\n",
      "10 é igual a 2 * 5\n"
     ]
    }
   ],
   "source": [
    "# Exemplo break\n",
    "\n",
    " # Laço externo - 'n' de 2 a 10\n",
    "for n in range(2, 11):\n",
    "        \n",
    "    # Laço interno - 'x' de 2 até 'n-1'\n",
    "    for x in range(2, n):\n",
    "                \n",
    "        if n % x == 0: # Verifica se 'n' é divisível por 'x'            \n",
    "            print(f\"{n} é igual a {x} * {n//x}\")            \n",
    "            break # Sai do loop interno se um divisor for encontrado\n",
    "            "
   ]
  },
  {
   "cell_type": "code",
   "execution_count": 9,
   "id": "819b4705",
   "metadata": {},
   "outputs": [
    {
     "name": "stdout",
     "output_type": "stream",
     "text": [
      "4 é igual a 2 * 2\n",
      "6 é igual a 2 * 3\n",
      "6 é igual a 3 * 2\n",
      "8 é igual a 2 * 4\n",
      "8 é igual a 4 * 2\n",
      "9 é igual a 3 * 3\n",
      "10 é igual a 2 * 5\n",
      "10 é igual a 5 * 2\n"
     ]
    }
   ],
   "source": [
    "# sem break - n repete caso tenha mais de um divisor\n",
    "for n in range(2, 11):        \n",
    "    for x in range(2, n):                \n",
    "        if n % x == 0:           \n",
    "            print(f\"{n} é igual a {x} * {n//x}\")            \n",
    "            "
   ]
  },
  {
   "cell_type": "code",
   "execution_count": null,
   "id": "1a7764c6",
   "metadata": {},
   "outputs": [
    {
     "name": "stdout",
     "output_type": "stream",
     "text": [
      "Encontrado um número par 2\n",
      "Encontrado um número ímpar 3\n",
      "Encontrado um número par 4\n",
      "Encontrado um número ímpar 5\n",
      "Encontrado um número par 6\n",
      "Encontrado um número ímpar 7\n",
      "Encontrado um número par 8\n",
      "Encontrado um número ímpar 9\n"
     ]
    }
   ],
   "source": [
    "# Continue\n",
    "for num in range(2, 10):\n",
    "    if num % 2 == 0:\n",
    "        print(f\"Encontrado um número par {num}\")\n",
    "        continue\n",
    "    print(f\"Encontrado um número ímpar {num}\")"
   ]
  },
  {
   "cell_type": "code",
   "execution_count": 5,
   "id": "e13e5b59",
   "metadata": {},
   "outputs": [
    {
     "name": "stdout",
     "output_type": "stream",
     "text": [
      "0 1 2 3 4 \n",
      "Cheguei no 5... parei o loop\n"
     ]
    }
   ],
   "source": [
    "for i in range(11):\n",
    "    if i == 5:\n",
    "        print(\"\\nCheguei no 5... parei o loop\")\n",
    "        break\n",
    "    print(i, end=\" \")"
   ]
  },
  {
   "cell_type": "code",
   "execution_count": 9,
   "id": "df6ecf79",
   "metadata": {},
   "outputs": [
    {
     "name": "stdout",
     "output_type": "stream",
     "text": [
      "Procurando quem está no Canadá... Ana não está!\n",
      "Procurando quem está no Canadá... Bruno não está!\n",
      "Procurando quem está no Canadá... Severina não está!\n",
      "Procurando quem está no Canadá... Joana não está!\n",
      "Procurando quem está no Canadá... Carlos não está!\n",
      "Procurando quem está no Canadá... Carla não está!\n",
      "Achei quem está no Canadá! É a Luiza!!!!\n"
     ]
    }
   ],
   "source": [
    "nomes = [\"Ana\", \"Bruno\",\"Severina\",\"Joana\", \"Carlos\", \"Carla\", \"Luiza\", \"Diego\", \"Breno\"]\n",
    "\n",
    "for nome in nomes:\n",
    "    if nome == \"Luiza\":\n",
    "        print(\"Achei quem está no Canadá! É a Luiza!!!!\")\n",
    "        break\n",
    "    print(f\"Procurando quem está no Canadá... {nome} não está!\")"
   ]
  },
  {
   "cell_type": "code",
   "execution_count": 11,
   "id": "22c8188e",
   "metadata": {},
   "outputs": [
    {
     "name": "stdout",
     "output_type": "stream",
     "text": [
      "1 3 5 7 9 11 13 "
     ]
    }
   ],
   "source": [
    "# ignora números pares\n",
    "\n",
    "for i in range(15):\n",
    "    if i  % 2 == 0:\n",
    "        continue\n",
    "    print(i, end=\" \")"
   ]
  },
  {
   "cell_type": "code",
   "execution_count": 12,
   "id": "91b84a87",
   "metadata": {},
   "outputs": [
    {
     "name": "stdout",
     "output_type": "stream",
     "text": [
      "String não vazia: café\n",
      "String não vazia: bolo\n",
      "String não vazia: chá\n",
      "String não vazia: pão\n",
      "String não vazia: leite\n"
     ]
    }
   ],
   "source": [
    "# Fitra strings vazias\n",
    "\n",
    "palavras = [\"café\", \" \", \"bolo\", \"\", \"chá\", \"pão\", \"  \", \"leite\", \" \"]\n",
    "\n",
    "for palavra in palavras:\n",
    "    if palavra.strip() == \"\":\n",
    "        continue\n",
    "    print(f\"String não vazia: {palavra}\")"
   ]
  }
 ],
 "metadata": {
  "kernelspec": {
   "display_name": ".venv",
   "language": "python",
   "name": "python3"
  },
  "language_info": {
   "codemirror_mode": {
    "name": "ipython",
    "version": 3
   },
   "file_extension": ".py",
   "mimetype": "text/x-python",
   "name": "python",
   "nbconvert_exporter": "python",
   "pygments_lexer": "ipython3",
   "version": "3.13.3"
  }
 },
 "nbformat": 4,
 "nbformat_minor": 5
}
