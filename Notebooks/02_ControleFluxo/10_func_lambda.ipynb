{
 "cells": [
  {
   "cell_type": "markdown",
   "id": "b62b4112",
   "metadata": {},
   "source": [
    "# Expressões lambda 💻"
   ]
  }
 ],
 "metadata": {
  "kernelspec": {
   "display_name": ".venv",
   "language": "python",
   "name": "python3"
  },
  "language_info": {
   "name": "python",
   "version": "3.13.3"
  }
 },
 "nbformat": 4,
 "nbformat_minor": 5
}
