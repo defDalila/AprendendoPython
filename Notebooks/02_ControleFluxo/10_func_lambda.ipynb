{
 "cells": [
  {
   "cell_type": "markdown",
   "id": "b62b4112",
   "metadata": {},
   "source": [
    "# Expressões lambda 💻"
   ]
  },
  {
   "cell_type": "markdown",
   "id": "13b50e85",
   "metadata": {},
   "source": [
    "### 🧠 Conceito\n",
    "\n",
    "* Em Python, **funções anônimas** (ou seja, sem nome) podem ser criadas com a palavra-chave `lambda`.\n",
    "\n",
    "### 📍 Sintaxe\n",
    "\n",
    "```python\n",
    "lambda a, b: a + b\n",
    "```\n",
    "\n",
    "* O exemplo acima define uma função que recebe dois argumentos e retorna sua soma.\n",
    "* **Equivalente a:**\n",
    "\n",
    "```python\n",
    "def soma(a, b):\n",
    "    return a + b\n",
    "```\n",
    "\n",
    "### 🔍 Características Técnicas\n",
    "\n",
    "* **Uso**: Lambdas podem ser usadas onde quer que objetos do tipo função sejam esperados.\n",
    "* **Restrição sintática**: São limitadas a uma **única expressão** (não suportam múltiplas instruções).\n",
    "* **Açúcar sintático**: Lambdas são apenas uma forma mais compacta de escrever funções — funcionalmente equivalentes às definidas com `def`.\n",
    "* **Escopo**: Assim como funções aninhadas, lambdas podem **referenciar variáveis** do escopo em que estão inseridas (fechamento — *closure*).\n",
    "\n",
    "\n"
   ]
  },
  {
   "cell_type": "code",
   "execution_count": 1,
   "id": "e1365e89",
   "metadata": {},
   "outputs": [],
   "source": [
    "def cria_incrementador(n):\n",
    "    return lambda x: x + n"
   ]
  },
  {
   "cell_type": "code",
   "execution_count": 4,
   "id": "83b13b5b",
   "metadata": {},
   "outputs": [
    {
     "name": "stdout",
     "output_type": "stream",
     "text": [
      "15\n",
      "30\n",
      "10\n"
     ]
    }
   ],
   "source": [
    "f = cria_incrementador(10)\n",
    "print(f(5))  # Saída: 15\n",
    "print(f(20))  # Saída: 30\n",
    "print(f(0))  # Saída: 10"
   ]
  },
  {
   "cell_type": "code",
   "execution_count": 6,
   "id": "4d266c08",
   "metadata": {},
   "outputs": [
    {
     "name": "stdout",
     "output_type": "stream",
     "text": [
      "[(5, 'cinco'), (2, 'dois'), (4, 'quatro'), (3, 'três'), (1, 'um')]\n"
     ]
    }
   ],
   "source": [
    "pairs = [(1, \"um\"), (2, \"dois\"), (3, \"três\"), (4, \"quatro\"), (5, \"cinco\")]\n",
    "pairs.sort(key=lambda x: x[1])\n",
    "print(pairs)  # Saída: [(1, 'um'), (4, 'quatro'), (3, 'três'), (2, 'dois'), (5, 'cinco')]"
   ]
  },
  {
   "cell_type": "markdown",
   "id": "79bd35d8",
   "metadata": {},
   "source": [
    "### Explicação do Código em Python\n",
    "\n",
    "O código fornecido realiza a ordenação de uma lista de pares (tuplas) com base no segundo elemento de cada par. Vamos analisar cada parte:\n",
    "\n",
    "1. **Definição da Lista de Pares:**\n",
    "\n",
    "   ```python\n",
    "   pairs = [(1, \"um\"), (2, \"dois\"), (3, \"três\"), (4, \"quatro\"), (5, \"cinco\")]\n",
    "   ```\n",
    "\n",
    "   Aqui, `pairs` é uma lista que contém tuplas. Cada tupla possui dois elementos: um número inteiro e sua representação em português.\n",
    "\n",
    "2. **Ordenação da Lista:**\n",
    "\n",
    "   ```python\n",
    "   pairs.sort(key=lambda x: x[1])\n",
    "   ```\n",
    "\n",
    "   - A função `sort()` é utilizada para ordenar a lista `pairs`.\n",
    "   - O parâmetro `key` define a chave de ordenação. Neste caso, é usada uma função lambda `lambda x: x[1]`, que indica que a ordenação deve ser feita com base no segundo elemento (`x[1]`) de cada tupla.\n",
    "   - Assim, a lista será ordenada alfabeticamente pelas palavras em português.\n",
    "\n",
    "3. **Impressão da Lista Ordenada:**\n",
    "\n",
    "   ```python\n",
    "   print(pairs)\n",
    "   ```\n",
    "\n",
    "   Esta linha imprime a lista `pairs` após a ordenação.\n"
   ]
  },
  {
   "cell_type": "markdown",
   "id": "d69672fd",
   "metadata": {},
   "source": [
    "## Exemplos 📔"
   ]
  },
  {
   "cell_type": "code",
   "execution_count": 7,
   "id": "d67e45b5",
   "metadata": {},
   "outputs": [
    {
     "name": "stdout",
     "output_type": "stream",
     "text": [
      "[1, 4, 9, 16, 25]\n"
     ]
    }
   ],
   "source": [
    "# Aplica uma função a cada item de um iterável\n",
    "nums = [1, 2, 3, 4, 5]\n",
    "squared = list(map(lambda x: x ** 2, nums))\n",
    "print(squared)  # Saída: [1, 4, 9, 16, 25]"
   ]
  },
  {
   "cell_type": "code",
   "execution_count": null,
   "id": "e3edd319",
   "metadata": {},
   "outputs": [
    {
     "name": "stdout",
     "output_type": "stream",
     "text": [
      "[2, 4, 6]\n"
     ]
    }
   ],
   "source": [
    "# Filtra elementos com base em uma condição booleana\n",
    "\n",
    "nums = [1, 2, 3, 4, 5, 6]\n",
    "pares = list(filter(lambda x: x % 2 == 0, nums))\n",
    "print(pares)  \n"
   ]
  },
  {
   "cell_type": "markdown",
   "id": "3cb322fc",
   "metadata": {},
   "source": [
    "\n",
    "- **Lista `nums`**: Inicializa a lista `nums` com os números de 1 a 6.\n",
    "\n",
    "- **`filter()` e Lambda**: A função `filter()` aplica a função lambda a cada elemento de `nums`. A função lambda `lambda x: x % 2 == 0` retorna `True` para números pares, filtrando apenas esses números.\n",
    "\n",
    "- **Lista `pares`**: O resultado filtrado é convertido em uma lista chamada `pares`, que contém todos os números pares de `nums`.\n"
   ]
  },
  {
   "cell_type": "code",
   "execution_count": 10,
   "id": "d4924d38",
   "metadata": {},
   "outputs": [
    {
     "name": "stdout",
     "output_type": "stream",
     "text": [
      "[('João', 7), ('Ana', 9), ('Carlos', 6)]\n",
      "----------------------------------------\n",
      "[('Ana', 9), ('João', 7), ('Carlos', 6)]\n"
     ]
    }
   ],
   "source": [
    "alunos = [(\"João\", 7), (\"Ana\", 9), (\"Carlos\", 6)]\n",
    "print(alunos)\n",
    "print(\"-\" * 40)\n",
    "\n",
    "ordenados = sorted(alunos, key=lambda x: x[1], reverse=True)\n",
    "print(ordenados)"
   ]
  },
  {
   "cell_type": "code",
   "execution_count": null,
   "id": "1cfc615c",
   "metadata": {},
   "outputs": [
    {
     "name": "stdout",
     "output_type": "stream",
     "text": [
      "4\n",
      "20\n"
     ]
    }
   ],
   "source": [
    "# Usando lambda com variáveis do escopo externo (clousure)\n",
    "\n",
    "def multiplicador(fator):\n",
    "    return lambda x: x * fator # Aqui, o lambda captura o valor de fator do escopo onde foi definido.\n",
    "\n",
    "\n",
    "dobro = multiplicador(2)\n",
    "\n",
    "print(dobro(2))\n",
    "\n",
    "print(dobro(10))"
   ]
  }
 ],
 "metadata": {
  "kernelspec": {
   "display_name": ".venv",
   "language": "python",
   "name": "python3"
  },
  "language_info": {
   "codemirror_mode": {
    "name": "ipython",
    "version": 3
   },
   "file_extension": ".py",
   "mimetype": "text/x-python",
   "name": "python",
   "nbconvert_exporter": "python",
   "pygments_lexer": "ipython3",
   "version": "3.13.3"
  }
 },
 "nbformat": 4,
 "nbformat_minor": 5
}
