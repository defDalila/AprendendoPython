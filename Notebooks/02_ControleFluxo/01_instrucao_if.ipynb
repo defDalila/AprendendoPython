{
 "cells": [
  {
   "cell_type": "markdown",
   "id": "051c09d4",
   "metadata": {},
   "source": [
    "# Instrução If 💻"
   ]
  },
  {
   "cell_type": "code",
   "execution_count": null,
   "id": "e22d2d0d",
   "metadata": {},
   "outputs": [
    {
     "name": "stdout",
     "output_type": "stream",
     "text": [
      "Você inseriu: -1\n",
      "Número negativo alterado para 0\n"
     ]
    }
   ],
   "source": [
    "x = int(input(\"Insira um número inteiro: \"))\n",
    "print(f\"Você inseriu: {x}\")\n",
    "\n",
    "if x < 0:\n",
    "    x = 0\n",
    "    print('Número negativo alterado para 0')\n",
    "elif x == 0:\n",
    "    print('Zero')\n",
    "elif x == 1:\n",
    "    print('Um')\n",
    "else:\n",
    "    print('Maior que um')   "
   ]
  },
  {
   "cell_type": "code",
   "execution_count": null,
   "id": "502ca581",
   "metadata": {},
   "outputs": [
    {
     "name": "stdout",
     "output_type": "stream",
     "text": [
      "Você inseriu: 0\n",
      "Zero\n"
     ]
    }
   ],
   "source": [
    "x = int(input(\"Insira um número inteiro: \"))\n",
    "print(f\"Você inseriu: {x}\")\n",
    "\n",
    "if x < 0:\n",
    "    x = 0\n",
    "    print('Número negativo alterado para 0')\n",
    "elif x == 0:\n",
    "    print('Zero')\n",
    "elif x == 1:\n",
    "    print('Um')\n",
    "else:\n",
    "    print('Maior que um')   "
   ]
  },
  {
   "cell_type": "code",
   "execution_count": 3,
   "id": "ae0fda6f",
   "metadata": {},
   "outputs": [
    {
     "name": "stdout",
     "output_type": "stream",
     "text": [
      "Você inseriu: 15\n",
      "Maior que um\n"
     ]
    }
   ],
   "source": [
    "x = int(input(\"Insira um número inteiro: \"))\n",
    "print(f\"Você inseriu: {x}\")\n",
    "\n",
    "if x < 0:\n",
    "    x = 0\n",
    "    print('Número negativo alterado para 0')\n",
    "elif x == 0:\n",
    "    print('Zero')\n",
    "elif x == 1:\n",
    "    print('Um')\n",
    "else:\n",
    "    print('Maior que um')   "
   ]
  },
  {
   "cell_type": "markdown",
   "id": "39e18563",
   "metadata": {},
   "source": [
    "- 📝 Utilizar a instrução `match()` para comparar o mesmo valor com várias constantes ou verificar tipos ou atributos específicos"
   ]
  }
 ],
 "metadata": {
  "kernelspec": {
   "display_name": ".venv",
   "language": "python",
   "name": "python3"
  },
  "language_info": {
   "codemirror_mode": {
    "name": "ipython",
    "version": 3
   },
   "file_extension": ".py",
   "mimetype": "text/x-python",
   "name": "python",
   "nbconvert_exporter": "python",
   "pygments_lexer": "ipython3",
   "version": "3.13.3"
  }
 },
 "nbformat": 4,
 "nbformat_minor": 5
}
