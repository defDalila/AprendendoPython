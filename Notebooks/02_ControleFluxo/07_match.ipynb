{
 "cells": [
  {
   "cell_type": "markdown",
   "id": "7e04bb8f",
   "metadata": {},
   "source": [
    "# Instruções match 💻"
   ]
  },
  {
   "cell_type": "markdown",
   "id": "f40cda37",
   "metadata": {},
   "source": [
    "- Uma instrução `match` pega uma expressão e compara seu valor com padrões sucessivos fornecidos como um ou mais blocos de case.\n",
    "- pode extrair componentes (elementos de sequência ou atributos de objeto) do valor em variáveis\n",
    "- Apenas o primeiro padrão que corresponder será executado, podendo também extrair componentes (elementos de sequência ou atributos de objetos) do valor para variáveis."
   ]
  },
  {
   "cell_type": "code",
   "execution_count": null,
   "id": "eb4a2cb0",
   "metadata": {},
   "outputs": [],
   "source": [
    "def http_error(status):\n",
    "    match status:\n",
    "        case 400:\n",
    "            return \"Bad Request\"\n",
    "        case 401 | 403 | 404:  # multiple cases can be combined\n",
    "            return \"Not Found\"\n",
    "        case 500:\n",
    "            return \"Internal Server Error\"\n",
    "        case _:  # default case\n",
    "            return f\"Unknown Error: {status}\""
   ]
  },
  {
   "cell_type": "code",
   "execution_count": 2,
   "id": "09a5bb92",
   "metadata": {},
   "outputs": [],
   "source": [
    "def funcao(ponto):\n",
    "    match ponto:\n",
    "        case (0, 0):\n",
    "            print(\"Origem\")\n",
    "        case (0, y):\n",
    "            print(f\"Y={y}\")\n",
    "        case (x, 0):\n",
    "            print(f\"X={x}\")\n",
    "        case (x, y):\n",
    "            print(f\"X={x}, Y={y}\")\n",
    "        case _:\n",
    "            raise ValueError(\"Não é um ponto\")\n"
   ]
  },
  {
   "cell_type": "code",
   "execution_count": 5,
   "id": "7d5feaca",
   "metadata": {},
   "outputs": [],
   "source": [
    "class Ponto:\n",
    "    def __init__(self, x, y):\n",
    "        self.x = x\n",
    "        self.y = y\n",
    "\n",
    "def onde_estah(ponto):\n",
    "    match ponto:\n",
    "        case Ponto(x=0, y=0):\n",
    "            print(\"Origem\")\n",
    "        case Ponto(x=0, y=y):\n",
    "            print(f\"Y={y}\")\n",
    "        case Ponto(x=x, y=0):\n",
    "            print(f\"X={x}\")\n",
    "        case Ponto():\n",
    "            print(\"Em outro lugar\")\n",
    "        case _:\n",
    "            print(\"Não é um ponto\")"
   ]
  },
  {
   "cell_type": "markdown",
   "id": "8ce7e3b9",
   "metadata": {},
   "source": [
    "- Pode-se parâmetros posicionais com algumas classes built-ins que fornecem uma ordem para seus atributos (por exemplo, classes de dados).\n",
    "- Você também pode definir uma posição específica para atributos em padrões configurando o atributo especial `__match_args__` em suas classes. "
   ]
  },
  {
   "cell_type": "markdown",
   "id": "37e2c989",
   "metadata": {},
   "source": [
    "```python\n",
    "Ponto(1, var)\n",
    "Ponto(1, y=var)\n",
    "Ponto(x=1, y=var)\n",
    "Ponto(y=var, x=1)\n",
    "```"
   ]
  },
  {
   "cell_type": "code",
   "execution_count": 7,
   "id": "550efa91",
   "metadata": {},
   "outputs": [],
   "source": [
    "class Ponto:\n",
    "    __match_args__ = ('x', 'y')\n",
    "    def __init__(self, x, y):\n",
    "        self.x = x\n",
    "        self.y = y\n",
    "\n",
    "def posicao(pontos):\n",
    "    match pontos:\n",
    "        case []:\n",
    "            print(\"Sem pontos\")\n",
    "        case [Ponto(0, 0)]:\n",
    "            print(\"A origem\")\n",
    "        case [Ponto(x, y)]:\n",
    "            print(f\"Ponto único {x}, {y}\")\n",
    "        case [Ponto(0, y1), Ponto(0, y2)]:\n",
    "            print(f\"Dois do eixo Y em {y1}, {y2}\")\n",
    "        case _:\n",
    "            print(\"Outra coisa\")"
   ]
  },
  {
   "cell_type": "markdown",
   "id": "45abbbfa",
   "metadata": {},
   "source": [
    "- Podemos adicionar uma cláusula if a um padrão, conhecido como `guard`. Se a guarda for falsa, `match` continua para tentar o próximo bloco case.\n",
    "\n",
    "    ```python\n",
    "    match ponto:\n",
    "        case Ponto(x, y) if x == y:\n",
    "            print(f\"Y=X at {x}\")\n",
    "        case Ponto(x, y):\n",
    "            print(f\"Não está na diagonal\")\n",
    "    ```"
   ]
  },
  {
   "cell_type": "markdown",
   "id": "6e4c5433",
   "metadata": {},
   "source": [
    "- Padrões podem usar constantes nomeadas. Estas devem ser nomes pontilhados para prevenir que sejam interpretadas como variáveis de captura"
   ]
  },
  {
   "cell_type": "code",
   "execution_count": 8,
   "id": "be59ddc4",
   "metadata": {},
   "outputs": [
    {
     "name": "stdout",
     "output_type": "stream",
     "text": [
      "O céu é azul :)\n"
     ]
    }
   ],
   "source": [
    "from enum import Enum\n",
    "class Cor(Enum):\n",
    "    VERMELHO = 'vermelho'\n",
    "    VERDE = 'verde'\n",
    "    AZUL = 'azul'\n",
    "\n",
    "color = Cor(input(\"Insira sua escolha de 'vermelho, 'azul' ou 'verde': \"))\n",
    "\n",
    "match color:\n",
    "    case Cor.VERMELHO:\n",
    "        print(\"Eu vejo vermelho!\")\n",
    "    case Cor.VERDE:\n",
    "        print(\"Grama é verde\")\n",
    "    case Cor.AZUL:\n",
    "        print(\"O céu é azul :)\")"
   ]
  }
 ],
 "metadata": {
  "kernelspec": {
   "display_name": ".venv",
   "language": "python",
   "name": "python3"
  },
  "language_info": {
   "codemirror_mode": {
    "name": "ipython",
    "version": 3
   },
   "file_extension": ".py",
   "mimetype": "text/x-python",
   "name": "python",
   "nbconvert_exporter": "python",
   "pygments_lexer": "ipython3",
   "version": "3.13.3"
  }
 },
 "nbformat": 4,
 "nbformat_minor": 5
}
