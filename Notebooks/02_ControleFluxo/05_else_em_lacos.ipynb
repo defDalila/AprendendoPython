{
 "cells": [
  {
   "cell_type": "markdown",
   "id": "7526ff43",
   "metadata": {},
   "source": [
    "# Cláusulas else em laços 💻"
   ]
  },
  {
   "cell_type": "markdown",
   "id": "de122a3b",
   "metadata": {},
   "source": [
    "> - Em um laço `for` ou `while` a instrução `break` pode ser pareada com uma cláusula `else`. \n",
    "> \n",
    ">   1. Se o laço terminar sem executar o `break`, a cláusula `else` será executada.\n",
    "> \n",
    ">   2. Em um laço `for`, a cláusula `else` é executada após o laço finalizar sua iteração final, ou seja, se não ocorrer nenhuma interrupção.\n",
    "> \n",
    ">   3. Em um laço `while`, ele é executado após a condição do laço se tornar `false`.\n",
    ">   4. Em qualquer tipo de laço, a cláusula `else` não é executada se o laço foi encerrado por um `break`.\n",
    ">\n",
    ">   5. Outras maneiras de encerrar o laço mais cedo, como um `return` ou uma exceção levantada, também pularão a execução da cláusula `else`."
   ]
  },
  {
   "cell_type": "code",
   "execution_count": null,
   "id": "f3cc7119",
   "metadata": {},
   "outputs": [
    {
     "name": "stdout",
     "output_type": "stream",
     "text": [
      "2 is a prime number\n",
      "3 is a prime number\n",
      "4 igual a  2 * 2\n",
      "5 is a prime number\n",
      "6 igual a  2 * 3\n",
      "7 is a prime number\n",
      "8 igual a  2 * 4\n",
      "9 igual a  3 * 3\n"
     ]
    }
   ],
   "source": [
    "for n in range(2, 10):\n",
    "    for x in range(2, n):\n",
    "        if n % x == 0:\n",
    "            print(n, 'igual a ', x, '*', n // x)\n",
    "            break\n",
    "    else:\n",
    "        print(n, 'é um número primo')"
   ]
  },
  {
   "cell_type": "markdown",
   "id": "7e810ca0",
   "metadata": {},
   "source": [
    "\n",
    "### Explicação do Código\n",
    "\n",
    "```python\n",
    "for n in range(2, 10):\n",
    "    for x in range(2, n):\n",
    "        if n % x == 0:\n",
    "            print(n, 'igual a ', x, '*', n // x)\n",
    "            break\n",
    "    else:\n",
    "        print(n, 'é um número primo')\n",
    "```\n",
    "\n",
    "#### Loop Externo: `for n in range(2, 10)`\n",
    "- Este loop itera sobre os números de 2 até 9 (inclusive). O número 10 não é incluído porque a função `range` em Python gera números até, mas não incluindo, o valor final.\n",
    "\n",
    "#### Loop Interno: `for x in range(2, n)`\n",
    "- Para cada número `n`, este loop verifica todos os números `x` começando de 2 até `n-1`.\n",
    "- O objetivo deste loop é encontrar qualquer divisor de `n` que não seja 1 ou ele mesmo.\n",
    "\n",
    "#### Verificação Condicional: `if n % x == 0`\n",
    "- Esta condição verifica se `n` é divisível por `x` sem deixar resto.\n",
    "- Se for verdade, significa que `n` não é um número primo, pois possui um divisor diferente de 1 e dele mesmo.\n",
    "\n",
    "#### Dentro do Bloco `if`\n",
    "- Se `n` for divisível por `x`, o programa imprime que `n` é igual a `x` multiplicado por outro inteiro (`n // x`), confirmando que `n` não é um número primo.\n",
    "- A instrução `break` faz com que o loop interno termine mais cedo, já que determinamos que `n` não é um número primo.\n",
    "\n",
    "#### A Cláusula `else`\n",
    "- O bloco `else` associado ao loop `for` executa apenas se o loop completar sem encontrar uma instrução `break`.\n",
    "- Se nenhum divisor for encontrado (ou seja, `n` não é divisível por nenhum `x` no intervalo), o programa conclui que `n` é um número primo e imprime essa informação.\n",
    "\n",
    "### Saída\n",
    "- Para cada número `n` de 2 a 9, o código imprimirá seus fatores se não for primo ou declarará que é um número primo.\n",
    "\n",
    "### Exemplo de Saída\n",
    "Para o intervalo dado, a saída seria:\n",
    "\n",
    "```\n",
    "2 é um número primo\n",
    "3 é um número primo\n",
    "4 igual a  2 * 2\n",
    "5 é um número primo\n",
    "6 igual a  2 * 3\n",
    "7 é um número primo\n",
    "8 igual a  2 * 4\n",
    "9 igual a  3 * 3\n",
    "```\n",
    "\n",
    "Esta saída mostra quais números são primos e fornece uma fatoração para aqueles que não são."
   ]
  }
 ],
 "metadata": {
  "kernelspec": {
   "display_name": ".venv",
   "language": "python",
   "name": "python3"
  },
  "language_info": {
   "codemirror_mode": {
    "name": "ipython",
    "version": 3
   },
   "file_extension": ".py",
   "mimetype": "text/x-python",
   "name": "python",
   "nbconvert_exporter": "python",
   "pygments_lexer": "ipython3",
   "version": "3.13.3"
  }
 },
 "nbformat": 4,
 "nbformat_minor": 5
}
